{
  "nbformat": 4,
  "nbformat_minor": 0,
  "metadata": {
    "colab": {
      "name": "Distribuciones continuas.ipynb",
      "private_outputs": true,
      "provenance": [],
      "collapsed_sections": [],
      "authorship_tag": "ABX9TyOK0gHVxlNHarsr5zWbrQcH",
      "include_colab_link": true
    },
    "kernelspec": {
      "name": "python3",
      "display_name": "Python 3"
    },
    "language_info": {
      "name": "python"
    }
  },
  "cells": [
    {
      "cell_type": "markdown",
      "metadata": {
        "id": "view-in-github",
        "colab_type": "text"
      },
      "source": [
        "<a href=\"https://colab.research.google.com/github/elviscruz45/hyperblogs/blob/master/Distribuciones_continuas.ipynb\" target=\"_parent\"><img src=\"https://colab.research.google.com/assets/colab-badge.svg\" alt=\"Open In Colab\"/></a>"
      ]
    },
    {
      "cell_type": "code",
      "metadata": {
        "id": "f8N-kKKhMiOR"
      },
      "source": [
        "import pandas as pd\n",
        "import numpy as np\n",
        "import matplotlib.pyplot as plt\n",
        "from scipy.stats import norm\n"
      ],
      "execution_count": null,
      "outputs": []
    },
    {
      "cell_type": "markdown",
      "metadata": {
        "id": "4iYzAU6iCqzR"
      },
      "source": [
        "## Distribución normal teórica\n",
        "\n",
        "\n",
        "$$P(X) = \\frac{1}{\\sigma \\sqrt{2 \\pi}} \\exp{\\left[-\\frac{1}{2}\\left(\\frac{X-\\mu}{\\sigma} \\right)^2 \\right]}$$\n",
        "\n",
        "* $\\mu$: media de la distribución\n",
        "* $\\sigma$: desviación estándar de la distribución"
      ]
    },
    {
      "cell_type": "code",
      "metadata": {
        "id": "Wq9x0NWcCkpL"
      },
      "source": [
        "def gaussian(x,mu,sigma):\n",
        "  return 1/(sigma*np.sqrt(2*np.pi))*np.exp(-0.5*pow((x-mu)/sigma,2))"
      ],
      "execution_count": null,
      "outputs": []
    },
    {
      "cell_type": "code",
      "metadata": {
        "id": "6gfI9Mv00KeP"
      },
      "source": [
        "x=np.arange(-4,4,0.1)\n",
        "y=gaussian(x,0,1)\n",
        "plt.plot(x,y)"
      ],
      "execution_count": null,
      "outputs": []
    },
    {
      "cell_type": "code",
      "metadata": {
        "id": "Sm1QITbQ0f_8"
      },
      "source": [
        "dist=norm(0,1)\n",
        "x=np.arange(-4,4,0.1)\n",
        "y=[dist.pdf(value) for value in x]\n",
        "plt.plot(x,y)"
      ],
      "execution_count": null,
      "outputs": []
    },
    {
      "cell_type": "code",
      "metadata": {
        "id": "5qhNTUUz9UNo"
      },
      "source": [
        "dist=norm(0,1)\n",
        "x=np.arange(-4,4,0.1)\n",
        "y=[dist.cdf(value) for value in x]\n",
        "plt.plot(x,y)"
      ],
      "execution_count": null,
      "outputs": []
    },
    {
      "cell_type": "markdown",
      "metadata": {
        "id": "jVyZBbxz_z9u"
      },
      "source": [
        "## Distribución normal (gausiana) a partir de los datos\n",
        "\n",
        "* *El archivo excel* lo puedes descargar en esta página: https://seattlecentral.edu/qelp/sets/057/057.html"
      ]
    },
    {
      "cell_type": "code",
      "metadata": {
        "id": "16GXr3n-X1IS"
      },
      "source": [
        "df=pd.read_excel(\"s057.xls\")\n",
        "arr=df[\"Normally Distributed Housefly Wing Lengths\"].values[4:]"
      ],
      "execution_count": null,
      "outputs": []
    },
    {
      "cell_type": "code",
      "metadata": {
        "id": "yD8lVjwkp2TH"
      },
      "source": [
        "value,dist=np.unique(arr,return_counts=True)\n",
        "plt.bar(value,dist)"
      ],
      "execution_count": null,
      "outputs": []
    },
    {
      "cell_type": "code",
      "metadata": {
        "id": "eabc_7oYrCTh"
      },
      "source": [
        "mu=arr.mean()\n",
        "sigma=arr.std()\n",
        "x=np.arange(30,60,0.1)\n",
        "dist=norm(mu,sigma)\n",
        "y=[dist.pdf(value) for value in x]\n",
        "plt.plot(x,y)\n",
        "value,dist=np.unique(arr,return_counts=True)\n",
        "plt.bar(value,dist/len(arr))"
      ],
      "execution_count": null,
      "outputs": []
    },
    {
      "cell_type": "code",
      "metadata": {
        "id": "jSnUZROIeEO9"
      },
      "source": [
        ""
      ],
      "execution_count": null,
      "outputs": []
    },
    {
      "cell_type": "code",
      "metadata": {
        "id": "V0wrLcmo_CTt"
      },
      "source": [
        ""
      ],
      "execution_count": null,
      "outputs": []
    }
  ]
}